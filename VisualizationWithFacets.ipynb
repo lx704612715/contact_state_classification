{
 "cells": [
  {
   "cell_type": "code",
   "execution_count": 1,
   "metadata": {
    "jupyter": {
     "outputs_hidden": false
    },
    "pycharm": {
     "name": "#%%\n"
    }
   },
   "outputs": [],
   "source": [
    "import pandas as pd\n",
    "import os\n",
    "import numpy as np\n",
    "from loguru import logger\n",
    "import sys\n",
    "# Load dateloader\n",
    "from scipy.stats import gaussian_kde\n",
    "from sklearn import preprocessing\n",
    "from sklearn.neighbors import KNeighborsClassifier\n",
    "import contact_state_classification as csc"
   ]
  },
  {
   "cell_type": "code",
   "execution_count": 2,
   "metadata": {
    "jupyter": {
     "outputs_hidden": false
    },
    "pycharm": {
     "name": "#%%\n"
    }
   },
   "outputs": [
    {
     "name": "stderr",
     "output_type": "stream",
     "text": [
      "2022-02-14 15:08:44.499 | INFO     | contact_state_classification.cs_classifier:get_dataset_information:371 - All classes from the dataset ['RoboticsProject2510'] are ['CS1' 'CS2' 'CS3' 'CS5']: \n"
     ]
    },
    {
     "data": {
      "text/plain": [
       "{0: 'CS6',\n",
       " 1: 'CS6',\n",
       " 2: 'CS6',\n",
       " 3: 'CS6',\n",
       " 4: 'CS6',\n",
       " 5: 'CS3',\n",
       " 6: 'CS3',\n",
       " 7: 'CS3',\n",
       " 8: 'CS3',\n",
       " 9: 'CS3',\n",
       " 10: 'CS5',\n",
       " 11: 'CS5',\n",
       " 12: 'CS5',\n",
       " 13: 'CS5',\n",
       " 14: 'CS5',\n",
       " 15: 'CS1',\n",
       " 16: 'CS1',\n",
       " 17: 'CS1',\n",
       " 18: 'CS1',\n",
       " 19: 'CS1',\n",
       " 20: 'CS6',\n",
       " 21: 'CS6',\n",
       " 22: 'CS6',\n",
       " 23: 'CS6',\n",
       " 24: 'CS6',\n",
       " 25: 'CS6',\n",
       " 26: 'CS6',\n",
       " 27: 'CS6',\n",
       " 28: 'CS6',\n",
       " 29: 'CS6',\n",
       " 30: 'CS3',\n",
       " 31: 'CS3',\n",
       " 32: 'CS3',\n",
       " 33: 'CS3',\n",
       " 34: 'CS3',\n",
       " 35: 'CS3',\n",
       " 36: 'CS3',\n",
       " 37: 'CS3',\n",
       " 38: 'CS3',\n",
       " 39: 'CS3',\n",
       " 40: 'CS5',\n",
       " 41: 'CS5',\n",
       " 42: 'CS5',\n",
       " 43: 'CS5',\n",
       " 44: 'CS5',\n",
       " 45: 'CS5',\n",
       " 46: 'CS5',\n",
       " 47: 'CS5',\n",
       " 48: 'CS5',\n",
       " 49: 'CS5',\n",
       " 50: 'CS1',\n",
       " 51: 'CS1',\n",
       " 52: 'CS1',\n",
       " 53: 'CS1',\n",
       " 54: 'CS1',\n",
       " 55: 'CS1',\n",
       " 56: 'CS1',\n",
       " 57: 'CS1',\n",
       " 58: 'CS1',\n",
       " 59: 'CS1',\n",
       " 60: 'CS2',\n",
       " 61: 'CS2',\n",
       " 62: 'CS2',\n",
       " 63: 'CS2',\n",
       " 64: 'CS2',\n",
       " 65: 'CS2',\n",
       " 66: 'CS2',\n",
       " 67: 'CS2',\n",
       " 68: 'CS2',\n",
       " 69: 'CS2',\n",
       " 70: 'CS2',\n",
       " 71: 'CS2',\n",
       " 72: 'CS2',\n",
       " 73: 'CS2',\n",
       " 74: 'CS2'}"
      ]
     },
     "execution_count": 2,
     "metadata": {},
     "output_type": "execute_result"
    }
   ],
   "source": [
    "experiment_dir = csc.config.path[\"experiment_dir\"]\n",
    "cs_classifier = csc.CSClassifier(experiment_dir=experiment_dir,\n",
    "                                     dataset_name_list=csc.config.path[\"dataset\"],\n",
    "                                     test_set_name_list=csc.config.path[\"test_set\"])\n",
    "\n",
    "cs_classifier.csd_data_dict.keys()\n",
    "\n",
    "cs_classifier.csd_data_dict[\"label\"]\n",
    "\n",
    "# cs_classifier.predict(input_data=np.ones([1, 12]))"
   ]
  },
  {
   "cell_type": "code",
   "execution_count": 3,
   "metadata": {
    "jupyter": {
     "outputs_hidden": false
    },
    "pycharm": {
     "name": "#%%\n"
    }
   },
   "outputs": [],
   "source": [
    "import base64\n",
    "from facets_overview.generic_feature_statistics_generator import GenericFeatureStatisticsGenerator\n",
    "\n",
    "# set the sprite_size based on the number of records in dataset,\n",
    "# larger datasets can crash the browser if the size is too large (>50000)\n",
    "\n",
    "\n",
    "df =  pd.DataFrame({'action' : list(range(1, 13)),\n",
    "                    'dist' : cs_classifier.csd_data_dict[\"dist\"][0]})\n",
    "\n",
    "\n",
    "gfsg = GenericFeatureStatisticsGenerator()\n",
    "proto = GenericFeatureStatisticsGenerator().ProtoFromDataFrames([{'name': 'test', 'table': df}])\n",
    "protostr = base64.b64encode(proto.SerializeToString()).decode(\"utf-8\")\n",
    "\n",
    "sprite_size = 32 if len(df.index)>50000 else 64\n",
    "jsonstr = df.to_json(orient='records')"
   ]
  },
  {
   "cell_type": "code",
   "execution_count": 5,
   "metadata": {
    "jupyter": {
     "outputs_hidden": true
    }
   },
   "outputs": [
    {
     "data": {
      "text/html": [
       "<link rel=\"import\" href=\"/nbextensions/facets-dist/facets-jupyter.html\">\n",
       "        <facets-dive id=\"elem\" height=\"600\"></facets-dive>\n",
       "        <facets-overview id=\"fo\"></facets-overview>\n",
       "        <script>\n",
       "          document.querySelector(\"#elem\").data = [{\"action\":1,\"dist\":0.0000895197},{\"action\":2,\"dist\":0.0162565277},{\"action\":3,\"dist\":0.0171398847},{\"action\":4,\"dist\":0.0173243722},{\"action\":5,\"dist\":0.002483388},{\"action\":6,\"dist\":0.0028817288},{\"action\":7,\"dist\":0.0033645707},{\"action\":8,\"dist\":0.0047364508},{\"action\":9,\"dist\":0.0034624364},{\"action\":10,\"dist\":0.0025762449},{\"action\":11,\"dist\":0.0025254534},{\"action\":12,\"dist\":0.0025199427}];\n",
       "          document.querySelector(\"#fo\").protoInput = \"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\";\n",
       "        </script>"
      ],
      "text/plain": [
       "<IPython.core.display.HTML object>"
      ]
     },
     "metadata": {},
     "output_type": "display_data"
    }
   ],
   "source": [
    "# # Display the Dive visualization for this data\n",
    "# from IPython.core.display import display, HTML\n",
    "\n",
    "# # Create Facets template\n",
    "# HTML_TEMPLATE = \"\"\"<link rel=\"import\" href=\"/nbextensions/facets-dist/facets-jupyter.html\">\n",
    "#         <facets-dive id=\"elem\" height=\"600\"></facets-dive>\n",
    "#         <facets-overview id=\"fo\"></facets-overview>\n",
    "#         <script>\n",
    "#           document.querySelector(\"#elem\").data = {jsonstr};\n",
    "#           document.querySelector(\"#fo\").protoInput = \"{protostr}\";\n",
    "#         </script>\"\"\"\n",
    "\n",
    "# # Load the json dataset and the sprite_size into the template\n",
    "# html = HTML_TEMPLATE.format(jsonstr=jsonstr, protostr=protostr)\n",
    "\n",
    "# # Display the template\n",
    "# display(HTML(html))"
   ]
  },
  {
   "cell_type": "code",
   "execution_count": null,
   "metadata": {},
   "outputs": [],
   "source": []
  }
 ],
 "metadata": {
  "kernelspec": {
   "display_name": "Python 3 (ipykernel)",
   "language": "python",
   "name": "python3"
  },
  "language_info": {
   "codemirror_mode": {
    "name": "ipython",
    "version": 3
   },
   "file_extension": ".py",
   "mimetype": "text/x-python",
   "name": "python",
   "nbconvert_exporter": "python",
   "pygments_lexer": "ipython3",
   "version": "3.8.10"
  }
 },
 "nbformat": 4,
 "nbformat_minor": 4
}